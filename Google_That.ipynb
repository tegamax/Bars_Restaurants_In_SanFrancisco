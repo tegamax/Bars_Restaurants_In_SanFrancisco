{
 "cells": [
  {
   "cell_type": "code",
   "execution_count": 1,
   "metadata": {
    "collapsed": true
   },
   "outputs": [],
   "source": [
    "# Create code to answer each of the following questions.\n",
    "# Hint: You will need multiple target urls and multiple API requests.\n",
    "\n",
    "# Dependencies\n",
    "import requests\n",
    "import json\n",
    "\n",
    "# Google API Key\n",
    "from apikeys import GOOGLE_DEV_KEY as gkey"
   ]
  },
  {
   "cell_type": "code",
   "execution_count": 2,
   "metadata": {},
   "outputs": [
    {
     "name": "stdout",
     "output_type": "stream",
     "text": [
      "Seattle, Washington: 47.6062095, -122.3320708\n"
     ]
    }
   ],
   "source": [
    "# 1. What are the geocordinates (latitude and longitude) of Seattle,\n",
    "# Washington?\n",
    "\n",
    "target_city = \"Seattle, Washington\"\n",
    "\n",
    "params = {\n",
    "    \"address\": target_city,\n",
    "    \"key\": gkey\n",
    "}\n",
    "\n",
    "# Build URL using the Google Maps API\n",
    "base_url = \"https://maps.googleapis.com/maps/api/geocode/json\"\n",
    "\n",
    "# Run request\n",
    "response = requests.get(base_url, params=params)\n",
    "\n",
    "# Conver to JSON\n",
    "seattle_geo = response.json()\n",
    "\n",
    "# Extract Lat/Lng\n",
    "lat = seattle_geo[\"results\"][0][\"geometry\"][\"location\"][\"lat\"]\n",
    "lng = seattle_geo[\"results\"][0][\"geometry\"][\"location\"][\"lng\"]\n",
    "\n",
    "# Print results\n",
    "print(f'{target_city}: {lat}, {lng}')"
   ]
  },
  {
   "cell_type": "code",
   "execution_count": 3,
   "metadata": {},
   "outputs": [
    {
     "name": "stdout",
     "output_type": "stream",
     "text": [
      "The White House: 38.8976763, -77.0365298\n"
     ]
    }
   ],
   "source": [
    "# 2. What are the geocordinates (latitude and longitude) of The White House?\n",
    "# update params dict\n",
    "target_city = \"The White House\"\n",
    "\n",
    "params = {\n",
    "    \"address\": target_city,\n",
    "    \"key\": gkey\n",
    "}\n",
    "\n",
    "# Build URL using the Google Maps API\n",
    "base_url = \"https://maps.googleapis.com/maps/api/geocode/json\"\n",
    "\n",
    "# Run request\n",
    "response = requests.get(base_url, params=params)\n",
    "\n",
    "# Conver to JSON\n",
    "seattle_geo = response.json()\n",
    "\n",
    "# Extract Lat/Lng\n",
    "wh_lat = seattle_geo[\"results\"][0][\"geometry\"][\"location\"][\"lat\"]\n",
    "wh_lng = seattle_geo[\"results\"][0][\"geometry\"][\"location\"][\"lng\"]\n",
    "\n",
    "# Print results\n",
    "print(f'{target_city}: {wh_lat}, {wh_lng}')"
   ]
  },
  {
   "cell_type": "code",
   "execution_count": 8,
   "metadata": {},
   "outputs": [
    {
     "name": "stdout",
     "output_type": "stream",
     "text": [
      "REI\n",
      "222 Yale Avenue North, Seattle\n"
     ]
    }
   ],
   "source": [
    "# 3. Find the names and addresses of a bike store in Seattle, Washington.\n",
    "#    Hint: See https://developers.google.com/places/web-service/supported_types\n",
    "target_type = \"bicycle_store\"\n",
    "seattle_coords = \"47.6062095,-122.3320708\"\n",
    "radius = 8000\n",
    "\n",
    "# rewrite params dict\n",
    "\n",
    "params = {\n",
    "    \"location\": seattle_coords,\n",
    "    \"type\": target_type,\n",
    "    \"radius\": radius,\n",
    "    \"key\": gkey\n",
    "}\n",
    "\n",
    "# Build URL using the Google Maps API\n",
    "base_url = \"https://maps.googleapis.com/maps/api/place/nearbysearch/json\"\n",
    "\n",
    "# Run request\n",
    "response = requests.get(base_url, params)\n",
    "seattle_bikes = response.json()\n",
    "\n",
    "# Print the json (pretty printed)\n",
    "# print(json.dumps(seattle_bikes, indent=4, sort_keys=True))\n",
    "\n",
    "# Print the name and address of the first bike shop to appear\n",
    "print(seattle_bikes[\"results\"][0][\"name\"])\n",
    "print(seattle_bikes[\"results\"][0][\"vicinity\"])"
   ]
  },
  {
   "cell_type": "code",
   "execution_count": 5,
   "metadata": {},
   "outputs": [
    {
     "name": "stdout",
     "output_type": "stream",
     "text": [
      "Total Party - Party, Costumes & Novelties\n",
      "1750 Crystal Dr, Arlington\n"
     ]
    }
   ],
   "source": [
    "# 4. Find a balloon store near the White House.\n",
    "target_search = \"Balloon Store\"\n",
    "\n",
    "# redefine params\n",
    "params = {\n",
    "    \"location\": f'{wh_lat},{wh_lng}',\n",
    "    \"keyword\": target_search,\n",
    "    \"radius\": radius,\n",
    "    \"key\": gkey\n",
    "}\n",
    "\n",
    "# Build URL using the Google Maps API\n",
    "base_url = \"https://maps.googleapis.com/maps/api/place/nearbysearch/json\"\n",
    "\n",
    "# Run request\n",
    "dc_balloons = requests.get(base_url, params).json()\n",
    "\n",
    "# Print the json (pretty printed)\n",
    "# print(json.dumps(dc_balloons, indent=4, sort_keys=True))\n",
    "\n",
    "# Print the name and address of the first baloon shop that appears\n",
    "print(dc_balloons[\"results\"][0][\"name\"])\n",
    "print(dc_balloons[\"results\"][0][\"vicinity\"])"
   ]
  },
  {
   "cell_type": "code",
   "execution_count": 9,
   "metadata": {},
   "outputs": [
    {
     "name": "stdout",
     "output_type": "stream",
     "text": [
      "Michael J Perona DDS\n",
      "188 Spear Street, Suite 105, Courtyard entrance on Howard Street, San Francisco\n"
     ]
    }
   ],
   "source": [
    "# 5. Find the nearest dentist to your house.\n",
    "# Hint: Use Google Maps to find your latitude and Google Places to find\n",
    "# the dentist. You may also need the rankby property.\n",
    "\n",
    "# Google geocode to find lat, lng\n",
    "my_address = \"160 Spear St, San Francisco, CA\"\n",
    "\n",
    "\n",
    "params = {\n",
    "    \"address\": my_address,\n",
    "    \"key\": gkey\n",
    "}\n",
    "\n",
    "base_url = \"https://maps.googleapis.com/maps/api/geocode/json\"\n",
    "\n",
    "my_geo = requests.get(base_url, params).json()\n",
    "\n",
    "lat = my_geo[\"results\"][0][\"geometry\"][\"location\"][\"lat\"]\n",
    "lng = my_geo[\"results\"][0][\"geometry\"][\"location\"][\"lng\"]\n",
    "\n",
    "\n",
    "# Use lat, lng to use places API to find nearest dentist\n",
    "target_search = \"dentist\"\n",
    "\n",
    "params = {\n",
    "    \"location\": f'{lat},{lng}',\n",
    "    \"type\": target_search,\n",
    "    \"rankby\": \"distance\",\n",
    "    \"key\": gkey\n",
    "}\n",
    "\n",
    "base_url = \"https://maps.googleapis.com/maps/api/place/nearbysearch/json\"\n",
    "\n",
    "\n",
    "# Run request\n",
    "response = requests.get(base_url, params)\n",
    "my_dentist = response.json()\n",
    "\n",
    "# Print the json (pretty printed)\n",
    "# print(json.dumps(my_dentist, indent=4, sort_keys=True))\n",
    "\n",
    "# Print the name and address of the first baloon shop that appears\n",
    "print(my_dentist[\"results\"][0][\"name\"])\n",
    "print(my_dentist[\"results\"][0][\"vicinity\"])"
   ]
  },
  {
   "cell_type": "code",
   "execution_count": 7,
   "metadata": {},
   "outputs": [
    {
     "name": "stdout",
     "output_type": "stream",
     "text": [
      "Dog Vacay | Pup's happy place ☼\n",
      "838 Milton St, Oakland, CA 94607, USA\n",
      "\n",
      "Happy Burrito\n",
      "1616 Webster St, Oakland, CA 94612, USA\n",
      "\n",
      "Happy Hound Play & Daycare\n",
      "2101 Mandela Pkwy, Oakland, CA 94607, USA\n",
      "\n",
      "Happy Hot Dog\n",
      "10601 MacArthur Blvd, Oakland, CA 94603, USA\n",
      "\n",
      "Shakewell\n",
      "3407 Lakeshore Ave, Oakland, CA 94610, USA\n",
      "\n"
     ]
    }
   ],
   "source": [
    "# 6. Bonus: Find the names and addresses of the top five places Google suggests\n",
    "# for the phrase: \"Happy Place in Oakland\". Hint: Read about \"Text Search Results\"\n",
    "# (https://developers.google.com/places/web-service/search#TextSearchRequests)\n",
    "my_phrase = \"Happy Place in Oakland\"\n",
    "target_url = \"https://maps.googleapis.com/maps/api/place/textsearch/json\"\n",
    "\n",
    "params = {\n",
    "    \"query\": my_phrase,\n",
    "    \"key\": gkey\n",
    "}\n",
    "\n",
    "response = requests.get(target_url, params)\n",
    "# print(response.status_code)\n",
    "happy_places = response.json()\n",
    "# print(json.dumps(happy_places, indent=4, sort_keys=True))\n",
    "\n",
    "counter = 0\n",
    "\n",
    "for place in happy_places[\"results\"]:\n",
    "    print(place[\"name\"])\n",
    "    print(place[\"formatted_address\"])\n",
    "    print()\n",
    "    counter += 1\n",
    "    if counter == 5:\n",
    "        break"
   ]
  },
  {
   "cell_type": "code",
   "execution_count": null,
   "metadata": {
    "collapsed": true
   },
   "outputs": [],
   "source": []
  }
 ],
 "metadata": {
  "kernelspec": {
   "display_name": "Python 3",
   "language": "python",
   "name": "python3"
  },
  "language_info": {
   "codemirror_mode": {
    "name": "ipython",
    "version": 3
   },
   "file_extension": ".py",
   "mimetype": "text/x-python",
   "name": "python",
   "nbconvert_exporter": "python",
   "pygments_lexer": "ipython3",
   "version": "3.6.4"
  }
 },
 "nbformat": 4,
 "nbformat_minor": 2
}
